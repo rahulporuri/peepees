{
 "metadata": {
  "name": "",
  "signature": "sha256:e4980bdf1d686ffc225cf2e258b5ef5f6196782bb63441a09f4c670ea98e65d1"
 },
 "nbformat": 3,
 "nbformat_minor": 0,
 "worksheets": [
  {
   "cells": [
    {
     "cell_type": "markdown",
     "metadata": {},
     "source": [
      "If you came here from the blog part of my website, you can go back to it by clicking [here](http://rahulporuri.github.io/blog.html) or if you came here from my blogpost, you can go back to it by clicking [here](http://rahulporuri.blogspot.in/)."
     ]
    },
    {
     "cell_type": "markdown",
     "metadata": {},
     "source": [
      "I wanted to continue in the same direction as a couple of my other per projects and look at stats of an activity that I did regularly, which in this case is how I use the Pocket offline reading app. You can export your personal pocket data by going [here](). Again, I use the BeautifulSoup module to parse the .html file and I use the gmtime function in the time module to convert the 10-digit time stamp from the html file to something more meaningful, that we can understand. You can look at an example later in the code."
     ]
    },
    {
     "cell_type": "code",
     "collapsed": false,
     "input": [
      "import numpy\n",
      "import matplotlib.pyplot as plt\n",
      "%matplotlib inline\n",
      "import BeautifulSoup\n",
      "import time"
     ],
     "language": "python",
     "metadata": {},
     "outputs": [],
     "prompt_number": 7
    },
    {
     "cell_type": "markdown",
     "metadata": {},
     "source": [
      "again, if you take a closer look at the html file, you will notice that the time stamps are an attribute in the 'a' elements."
     ]
    },
    {
     "cell_type": "code",
     "collapsed": false,
     "input": [
      "soup = BeautifulSoup.BeautifulSoup(open('ril_export.html'))\n",
      "allAttrs = [tag.attrs for tag in soup.findAll('a')]"
     ],
     "language": "python",
     "metadata": {},
     "outputs": [],
     "prompt_number": 2
    },
    {
     "cell_type": "code",
     "collapsed": false,
     "input": [
      "dates = []\n",
      "for string in allAttrs:\n",
      "        try :\n",
      "                dates.append(str(string[1][1]).strip('u'))\n",
      "        except IndexError :\n",
      "                print string\n",
      "\n",
      "dateList = numpy.asarray(dates, dtype=int)\n",
      "print len(dateList)"
     ],
     "language": "python",
     "metadata": {},
     "outputs": [
      {
       "output_type": "stream",
       "stream": "stdout",
       "text": [
        "1360\n"
       ]
      }
     ],
     "prompt_number": 3
    },
    {
     "cell_type": "code",
     "collapsed": false,
     "input": [
      "yearList = []\n",
      "monthList = []\n",
      "dayList = []\n",
      "hourList = []\n",
      "\n",
      "for date in dateList:\n",
      "        temp = time.gmtime(date)\n",
      "        yearList.append(temp.tm_year)\n",
      "        monthList.append(temp.tm_mon)\n",
      "        dayList.append(temp.tm_mday)\n",
      "        hourList.append(temp.tm_hour)\n",
      "\n",
      "yearList = numpy.asarray(yearList)\n",
      "monthrList = numpy.asarray(monthList)\n",
      "dayList = numpy.asarray(dayList)\n",
      "hourList = numpy.asarray(hourList)"
     ],
     "language": "python",
     "metadata": {},
     "outputs": [],
     "prompt_number": 4
    },
    {
     "cell_type": "code",
     "collapsed": false,
     "input": [
      "print list(set(yearList))\n",
      "print list(set(monthList))\n",
      "print list(set(dayList))\n",
      "print list(set(hourList))"
     ],
     "language": "python",
     "metadata": {},
     "outputs": [
      {
       "output_type": "stream",
       "stream": "stdout",
       "text": [
        "[2014, 2015]\n",
        "[1, 2, 3, 4, 5, 6, 7, 8, 9, 10, 11, 12]\n",
        "[1, 2, 3, 4, 5, 6, 7, 8, 9, 10, 11, 12, 13, 14, 15, 16, 17, 18, 19, 20, 21, 22, 23, 24, 25, 26, 27, 28, 29, 30, 31]\n",
        "[0, 1, 2, 3, 4, 5, 6, 7, 8, 9, 10, 11, 12, 13, 14, 15, 16, 17, 18, 19, 20, 21, 22, 23]\n"
       ]
      }
     ],
     "prompt_number": 5
    },
    {
     "cell_type": "code",
     "collapsed": false,
     "input": [
      "plt.hist(yearList,bins=2)"
     ],
     "language": "python",
     "metadata": {},
     "outputs": [
      {
       "metadata": {},
       "output_type": "pyout",
       "prompt_number": 8,
       "text": [
        "(array([   80.,  1280.]),\n",
        " array([ 2014. ,  2014.5,  2015. ]),\n",
        " <a list of 2 Patch objects>)"
       ]
      },
      {
       "metadata": {},
       "output_type": "display_data",
       "png": "[encoded data removed]",
       "text": [
        "<matplotlib.figure.Figure at 0xafdcc4ec>"
       ]
      }
     ],
     "prompt_number": 8
    },
    {
     "cell_type": "code",
     "collapsed": false,
     "input": [
      "plt.hist(monthList,bins=12)"
     ],
     "language": "python",
     "metadata": {},
     "outputs": [
      {
       "metadata": {},
       "output_type": "pyout",
       "prompt_number": 9,
       "text": [
        "(array([  39.,   20.,   10.,   46.,  117.,   57.,  141.,  214.,  165.,\n",
        "         111.,  244.,  196.]),\n",
        " array([  1.        ,   1.91666667,   2.83333333,   3.75      ,\n",
        "          4.66666667,   5.58333333,   6.5       ,   7.41666667,\n",
        "          8.33333333,   9.25      ,  10.16666667,  11.08333333,  12.        ]),\n",
        " <a list of 12 Patch objects>)"
       ]
      },
      {
       "metadata": {},
       "output_type": "display_data",
       "png": "[encoded data removed]",
       "text": [
        "<matplotlib.figure.Figure at 0xafe031ec>"
       ]
      }
     ],
     "prompt_number": 9
    },
    {
     "cell_type": "code",
     "collapsed": false,
     "input": [
      "plt.hist(dayList,bins=31)"
     ],
     "language": "python",
     "metadata": {},
     "outputs": [
      {
       "metadata": {},
       "output_type": "pyout",
       "prompt_number": 10,
       "text": [
        "(array([ 51.,  51.,  50.,  33.,  42.,  55.,  27.,  65.,  32.,  13.,  34.,\n",
        "         49.,  29.,  62.,  56.,  30.,  75.,  27.,  60.,  39.,  36.,  28.,\n",
        "         52.,  32.,  64.,  90.,  61.,  42.,  20.,  39.,  16.]),\n",
        " array([  1.        ,   1.96774194,   2.93548387,   3.90322581,\n",
        "          4.87096774,   5.83870968,   6.80645161,   7.77419355,\n",
        "          8.74193548,   9.70967742,  10.67741935,  11.64516129,\n",
        "         12.61290323,  13.58064516,  14.5483871 ,  15.51612903,\n",
        "         16.48387097,  17.4516129 ,  18.41935484,  19.38709677,\n",
        "         20.35483871,  21.32258065,  22.29032258,  23.25806452,\n",
        "         24.22580645,  25.19354839,  26.16129032,  27.12903226,\n",
        "         28.09677419,  29.06451613,  30.03225806,  31.        ]),\n",
        " <a list of 31 Patch objects>)"
       ]
      },
      {
       "metadata": {},
       "output_type": "display_data",
       "png": "[encoded data removed]",
       "text": [
        "<matplotlib.figure.Figure at 0xb00348cc>"
       ]
      }
     ],
     "prompt_number": 10
    },
    {
     "cell_type": "code",
     "collapsed": false,
     "input": [
      "plt.hist(hourList,bins=24)"
     ],
     "language": "python",
     "metadata": {},
     "outputs": [
      {
       "metadata": {},
       "output_type": "pyout",
       "prompt_number": 11,
       "text": [
        "(array([  14.,   26.,   46.,   64.,   55.,   71.,   92.,   92.,   98.,\n",
        "          85.,   62.,   92.,   87.,   88.,  112.,   78.,   75.,   64.,\n",
        "          43.,    8.,    2.,    2.,    1.,    3.]),\n",
        " array([  0.        ,   0.95833333,   1.91666667,   2.875     ,\n",
        "          3.83333333,   4.79166667,   5.75      ,   6.70833333,\n",
        "          7.66666667,   8.625     ,   9.58333333,  10.54166667,\n",
        "         11.5       ,  12.45833333,  13.41666667,  14.375     ,\n",
        "         15.33333333,  16.29166667,  17.25      ,  18.20833333,\n",
        "         19.16666667,  20.125     ,  21.08333333,  22.04166667,  23.        ]),\n",
        " <a list of 24 Patch objects>)"
       ]
      },
      {
       "metadata": {},
       "output_type": "display_data",
       "png": "[encoded data removed]",
       "text": [
        "<matplotlib.figure.Figure at 0xafccd06c>"
       ]
      }
     ],
     "prompt_number": 11
    },
    {
     "cell_type": "markdown",
     "metadata": {},
     "source": [
      "If you came here from the blog part of my website, you can go back to it by clicking [here](http://rahulporuri.github.io/blog.html) or if you came here from my blogpost, you can go back to it by clicking [here](http://rahulporuri.blogspot.in/)."
     ]
    }
   ],
   "metadata": {}
  }
 ]
}