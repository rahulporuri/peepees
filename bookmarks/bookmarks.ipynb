{
 "metadata": {
  "name": "",
  "signature": "sha256:f82900fb5d90e6fb623e785fa54a7745ba7dac3c323040281bf06897e46f26b4"
 },
 "nbformat": 3,
 "nbformat_minor": 0,
 "worksheets": [
  {
   "cells": [
    {
     "cell_type": "markdown",
     "metadata": {},
     "source": [
      "If you came here from the blog part of my website, you can go back to it by clicking [here](http://rahulporuri.github.io/blog.html) or if you came here from my blogpost, you can go back to it by clicking [here](http://rahulporuri.blogspot.in/)."
     ]
    },
    {
     "cell_type": "code",
     "collapsed": false,
     "input": [
      "import numpy\n",
      "import matplotlib.pyplot as plt\n",
      "%matplotlib inline\n",
      "\n",
      "import BeautifulSoup\n",
      "import time"
     ],
     "language": "python",
     "metadata": {},
     "outputs": [],
     "prompt_number": 1
    },
    {
     "cell_type": "markdown",
     "metadata": {},
     "source": [
      "chrome bookmarks\n",
      "===="
     ]
    },
    {
     "cell_type": "code",
     "collapsed": false,
     "input": [
      "soup = BeautifulSoup.BeautifulSoup(open('bookmarks.html'))\n",
      "\n",
      "allAttrs = [tag.attrs for tag in soup.findAll('a')]\n",
      "\n",
      "dates = []\n",
      "for string in allAttrs:\n",
      "        try :\n",
      "                dates.append(str(string[1][1]).strip('u'))\n",
      "        except IndexError :\n",
      "                print string\n",
      "\n",
      "dateList = numpy.asarray(dates, dtype=int)"
     ],
     "language": "python",
     "metadata": {},
     "outputs": [
      {
       "output_type": "stream",
       "stream": "stdout",
       "text": [
        "[(u'href', u'https://www.hnsearch.com/search#request/all&q=python&sortby=points+desc<')]\n"
       ]
      }
     ],
     "prompt_number": 2
    },
    {
     "cell_type": "code",
     "collapsed": false,
     "input": [
      "print len(dateList)\n",
      "plt.hist(dateList)"
     ],
     "language": "python",
     "metadata": {},
     "outputs": [
      {
       "output_type": "stream",
       "stream": "stdout",
       "text": [
        "5777\n"
       ]
      },
      {
       "metadata": {},
       "output_type": "pyout",
       "prompt_number": 3,
       "text": [
        "(array([ 5585.,    37.,     6.,    36.,    10.,    18.,    20.,    36.,\n",
        "           18.,    11.]),\n",
        " array([  1.40215390e+09,   1.40235406e+09,   1.40255423e+09,\n",
        "          1.40275439e+09,   1.40295456e+09,   1.40315472e+09,\n",
        "          1.40335488e+09,   1.40355505e+09,   1.40375521e+09,\n",
        "          1.40395537e+09,   1.40415554e+09]),\n",
        " <a list of 10 Patch objects>)"
       ]
      },
      {
       "metadata": {},
       "output_type": "display_data",
       "png": "[encoded data removed]",
       "text": [
        "<matplotlib.figure.Figure at 0xb040b1ec>"
       ]
      }
     ],
     "prompt_number": 3
    },
    {
     "cell_type": "code",
     "collapsed": false,
     "input": [
      "yearList = []\n",
      "monthList = []\n",
      "dayList = []\n",
      "hourList = []\n",
      "\n",
      "for date in dateList:\n",
      "        temp = time.gmtime(date)\n",
      "        yearList.append(temp.tm_year)\n",
      "        monthList.append(temp.tm_mon)\n",
      "        dayList.append(temp.tm_mday)\n",
      "        hourList.append(temp.tm_hour)\n",
      "\n",
      "yearList = numpy.asarray(yearList)\n",
      "monthrList = numpy.asarray(monthList)\n",
      "dayList = numpy.asarray(dayList)\n",
      "hourList = numpy.asarray(hourList) + 5"
     ],
     "language": "python",
     "metadata": {},
     "outputs": [],
     "prompt_number": 4
    },
    {
     "cell_type": "code",
     "collapsed": false,
     "input": [
      "print min(yearList), max(yearList)\n",
      "print list(set(yearList))\n",
      "print list(set(monthList))\n",
      "print list(set(dayList))\n",
      "print list(set(hourList))"
     ],
     "language": "python",
     "metadata": {},
     "outputs": [
      {
       "output_type": "stream",
       "stream": "stdout",
       "text": [
        "2014 2014\n",
        "[2014]\n",
        "[6]\n",
        "[7, 8, 9, 10, 11, 12, 13, 14, 15, 16, 17, 18, 19, 20, 21, 22, 23, 24, 25, 26, 27, 29, 30]\n",
        "[5, 6, 7, 8, 9, 10, 11, 12, 13, 14, 15, 16, 17, 18, 19, 20, 21, 22, 23, 24, 26, 27]\n"
       ]
      }
     ],
     "prompt_number": 5
    },
    {
     "cell_type": "code",
     "collapsed": false,
     "input": [
      "plt.hist(yearList)"
     ],
     "language": "python",
     "metadata": {},
     "outputs": [
      {
       "metadata": {},
       "output_type": "pyout",
       "prompt_number": 6,
       "text": [
        "(array([    0.,     0.,     0.,     0.,     0.,  5777.,     0.,     0.,\n",
        "            0.,     0.]),\n",
        " array([ 2013.5,  2013.6,  2013.7,  2013.8,  2013.9,  2014. ,  2014.1,\n",
        "         2014.2,  2014.3,  2014.4,  2014.5]),\n",
        " <a list of 10 Patch objects>)"
       ]
      },
      {
       "metadata": {},
       "output_type": "display_data",
       "png": "[encoded data removed]",
       "text": [
        "<matplotlib.figure.Figure at 0xb034736c>"
       ]
      }
     ],
     "prompt_number": 6
    },
    {
     "cell_type": "code",
     "collapsed": false,
     "input": [
      "plt.hist(monthList,bins=12)"
     ],
     "language": "python",
     "metadata": {},
     "outputs": [
      {
       "metadata": {},
       "output_type": "pyout",
       "prompt_number": 7,
       "text": [
        "(array([    0.,     0.,     0.,     0.,     0.,     0.,  5777.,     0.,\n",
        "            0.,     0.,     0.,     0.]),\n",
        " array([ 5.5       ,  5.58333333,  5.66666667,  5.75      ,  5.83333333,\n",
        "         5.91666667,  6.        ,  6.08333333,  6.16666667,  6.25      ,\n",
        "         6.33333333,  6.41666667,  6.5       ]),\n",
        " <a list of 12 Patch objects>)"
       ]
      },
      {
       "metadata": {},
       "output_type": "display_data",
       "png": "[encoded data removed]",
       "text": [
        "<matplotlib.figure.Figure at 0xb02a8eec>"
       ]
      }
     ],
     "prompt_number": 7
    },
    {
     "cell_type": "code",
     "collapsed": false,
     "input": [
      "plt.hist(dayList,bins=31)"
     ],
     "language": "python",
     "metadata": {},
     "outputs": [
      {
       "metadata": {},
       "output_type": "pyout",
       "prompt_number": 8,
       "text": [
        "(array([  8.42000000e+02,   4.74100000e+03,   2.00000000e+00,\n",
        "          0.00000000e+00,   5.00000000e+00,   8.00000000e+00,\n",
        "          2.90000000e+01,   0.00000000e+00,   1.00000000e+00,\n",
        "          5.00000000e+00,   2.10000000e+01,   0.00000000e+00,\n",
        "          1.00000000e+01,   8.00000000e+00,   1.00000000e+00,\n",
        "          0.00000000e+00,   7.00000000e+00,   1.20000000e+01,\n",
        "          3.00000000e+00,   0.00000000e+00,   8.00000000e+00,\n",
        "          9.00000000e+00,   2.40000000e+01,   0.00000000e+00,\n",
        "          3.00000000e+00,   1.40000000e+01,   1.30000000e+01,\n",
        "          0.00000000e+00,   0.00000000e+00,   7.00000000e+00,\n",
        "          4.00000000e+00]),\n",
        " array([  7.        ,   7.74193548,   8.48387097,   9.22580645,\n",
        "          9.96774194,  10.70967742,  11.4516129 ,  12.19354839,\n",
        "         12.93548387,  13.67741935,  14.41935484,  15.16129032,\n",
        "         15.90322581,  16.64516129,  17.38709677,  18.12903226,\n",
        "         18.87096774,  19.61290323,  20.35483871,  21.09677419,\n",
        "         21.83870968,  22.58064516,  23.32258065,  24.06451613,\n",
        "         24.80645161,  25.5483871 ,  26.29032258,  27.03225806,\n",
        "         27.77419355,  28.51612903,  29.25806452,  30.        ]),\n",
        " <a list of 31 Patch objects>)"
       ]
      },
      {
       "metadata": {},
       "output_type": "display_data",
       "png": "[encoded data removed]",
       "text": [
        "<matplotlib.figure.Figure at 0xb005d98c>"
       ]
      }
     ],
     "prompt_number": 8
    },
    {
     "cell_type": "code",
     "collapsed": false,
     "input": [
      "plt.hist(hourList,bins=24)"
     ],
     "language": "python",
     "metadata": {},
     "outputs": [
      {
       "metadata": {},
       "output_type": "pyout",
       "prompt_number": 9,
       "text": [
        "(array([  1.00000000e+00,   1.20000000e+01,   1.00000000e+01,\n",
        "          6.00000000e+00,   4.76200000e+03,   3.00000000e+00,\n",
        "          4.00000000e+00,   1.00000000e+00,   2.00000000e+01,\n",
        "          7.00000000e+00,   5.00000000e+00,   0.00000000e+00,\n",
        "          7.00000000e+00,   5.00000000e+00,   2.70000000e+01,\n",
        "          7.00000000e+00,   8.53000000e+02,   2.00000000e+01,\n",
        "          1.00000000e+00,   5.00000000e+00,   1.80000000e+01,\n",
        "          0.00000000e+00,   2.00000000e+00,   1.00000000e+00]),\n",
        " array([  5.        ,   5.91666667,   6.83333333,   7.75      ,\n",
        "          8.66666667,   9.58333333,  10.5       ,  11.41666667,\n",
        "         12.33333333,  13.25      ,  14.16666667,  15.08333333,\n",
        "         16.        ,  16.91666667,  17.83333333,  18.75      ,\n",
        "         19.66666667,  20.58333333,  21.5       ,  22.41666667,\n",
        "         23.33333333,  24.25      ,  25.16666667,  26.08333333,  27.        ]),\n",
        " <a list of 24 Patch objects>)"
       ]
      },
      {
       "metadata": {},
       "output_type": "display_data",
       "png": "[encoded data removed]",
       "text": [
        "<matplotlib.figure.Figure at 0xb00881ac>"
       ]
      }
     ],
     "prompt_number": 9
    },
    {
     "cell_type": "markdown",
     "metadata": {},
     "source": [
      "mozilla bookmarks\n",
      "==="
     ]
    },
    {
     "cell_type": "code",
     "collapsed": false,
     "input": [
      "soup = BeautifulSoup.BeautifulSoup(open('bookmarks_m.html'))\n",
      "\n",
      "allAttrs = [tag.attrs for tag in soup.findAll('a')]\n",
      "\n",
      "dates = []\n",
      "for string in allAttrs:\n",
      "        try :\n",
      "                dates.append(str(string[1][1]).strip('u'))\n",
      "        except IndexError :\n",
      "                print string\n",
      "\n",
      "dateList = numpy.asarray(dates, dtype=int)"
     ],
     "language": "python",
     "metadata": {},
     "outputs": [],
     "prompt_number": 13
    },
    {
     "cell_type": "code",
     "collapsed": false,
     "input": [
      "yearList = []\n",
      "monthList = []\n",
      "dayList = []\n",
      "hourList = []\n",
      "\n",
      "for date in dateList:\n",
      "        temp = time.gmtime(date)\n",
      "        yearList.append(temp.tm_year)\n",
      "        monthList.append(temp.tm_mon)\n",
      "        dayList.append(temp.tm_mday)\n",
      "        hourList.append(temp.tm_hour)\n",
      "\n",
      "yearList = numpy.asarray(yearList)\n",
      "monthrList = numpy.asarray(monthList)\n",
      "dayList = numpy.asarray(dayList)\n",
      "hourList = numpy.asarray(hourList)"
     ],
     "language": "python",
     "metadata": {},
     "outputs": [],
     "prompt_number": 16
    },
    {
     "cell_type": "code",
     "collapsed": false,
     "input": [
      "print min(yearList), max(yearList)\n",
      "print list(set(yearList))\n",
      "print list(set(monthList))\n",
      "print list(set(dayList))\n",
      "print list(set(hourList))"
     ],
     "language": "python",
     "metadata": {},
     "outputs": [
      {
       "output_type": "stream",
       "stream": "stdout",
       "text": [
        "2014 2015\n",
        "[2014, 2015]\n",
        "[1, 2, 3, 4, 5, 6, 7, 8, 9, 10, 11, 12]\n",
        "[1, 2, 3, 4, 5, 6, 7, 8, 9, 10, 11, 12, 13, 14, 15, 16, 17, 18, 19, 20, 21, 22, 23, 24, 25, 26, 27, 28, 29, 30, 31]\n",
        "[0, 1, 2, 3, 4, 5, 6, 7, 8, 9, 10, 11, 12, 13, 14, 15, 16, 17, 18, 19, 20, 21, 22, 23]\n"
       ]
      }
     ],
     "prompt_number": 17
    },
    {
     "cell_type": "code",
     "collapsed": false,
     "input": [
      "plt.hist(yearList)"
     ],
     "language": "python",
     "metadata": {},
     "outputs": [
      {
       "metadata": {},
       "output_type": "pyout",
       "prompt_number": 18,
       "text": [
        "(array([ 3254.,     0.,     0.,     0.,     0.,     0.,     0.,     0.,\n",
        "            0.,  2418.]),\n",
        " array([ 2014. ,  2014.1,  2014.2,  2014.3,  2014.4,  2014.5,  2014.6,\n",
        "         2014.7,  2014.8,  2014.9,  2015. ]),\n",
        " <a list of 10 Patch objects>)"
       ]
      },
      {
       "metadata": {},
       "output_type": "display_data",
       "png": "[encoded data removed]",
       "text": [
        "<matplotlib.figure.Figure at 0xaff5c48c>"
       ]
      }
     ],
     "prompt_number": 18
    },
    {
     "cell_type": "code",
     "collapsed": false,
     "input": [
      "plt.hist(monthList,bins=12)"
     ],
     "language": "python",
     "metadata": {},
     "outputs": [
      {
       "metadata": {},
       "output_type": "pyout",
       "prompt_number": 19,
       "text": [
        "(array([  739.,   916.,   109.,    58.,   100.,    81.,    68.,   110.,\n",
        "          134.,  3015.,   109.,   233.]),\n",
        " array([  1.        ,   1.91666667,   2.83333333,   3.75      ,\n",
        "          4.66666667,   5.58333333,   6.5       ,   7.41666667,\n",
        "          8.33333333,   9.25      ,  10.16666667,  11.08333333,  12.        ]),\n",
        " <a list of 12 Patch objects>)"
       ]
      },
      {
       "metadata": {},
       "output_type": "display_data",
       "png": "[encoded data removed]",
       "text": [
        "<matplotlib.figure.Figure at 0xaf190f0c>"
       ]
      }
     ],
     "prompt_number": 19
    },
    {
     "cell_type": "code",
     "collapsed": false,
     "input": [
      "plt.hist(dayList,bins=31)"
     ],
     "language": "python",
     "metadata": {},
     "outputs": [
      {
       "metadata": {},
       "output_type": "pyout",
       "prompt_number": 20,
       "text": [
        "(array([   74.,    64.,   676.,    16.,    28.,    26.,    39.,    63.,\n",
        "           30.,   875.,    20.,    36.,    40.,    68.,    66.,    60.,\n",
        "           51.,  2833.,    68.,    36.,    80.,    30.,    99.,    25.,\n",
        "            9.,    40.,    54.,    58.,    42.,    37.,    29.]),\n",
        " array([  1.        ,   1.96774194,   2.93548387,   3.90322581,\n",
        "          4.87096774,   5.83870968,   6.80645161,   7.77419355,\n",
        "          8.74193548,   9.70967742,  10.67741935,  11.64516129,\n",
        "         12.61290323,  13.58064516,  14.5483871 ,  15.51612903,\n",
        "         16.48387097,  17.4516129 ,  18.41935484,  19.38709677,\n",
        "         20.35483871,  21.32258065,  22.29032258,  23.25806452,\n",
        "         24.22580645,  25.19354839,  26.16129032,  27.12903226,\n",
        "         28.09677419,  29.06451613,  30.03225806,  31.        ]),\n",
        " <a list of 31 Patch objects>)"
       ]
      },
      {
       "metadata": {},
       "output_type": "display_data",
       "png": "[encoded data removed]",
       "text": [
        "<matplotlib.figure.Figure at 0xaff2a44c>"
       ]
      }
     ],
     "prompt_number": 20
    },
    {
     "cell_type": "code",
     "collapsed": false,
     "input": [
      "plt.hist(hourList,bins=24)"
     ],
     "language": "python",
     "metadata": {},
     "outputs": [
      {
       "metadata": {},
       "output_type": "pyout",
       "prompt_number": 21,
       "text": [
        "(array([  1.00000000e+01,   1.40000000e+01,   2.10000000e+01,\n",
        "          6.10000000e+01,   5.30000000e+01,   1.09000000e+02,\n",
        "          1.01000000e+02,   7.20000000e+01,   9.01000000e+02,\n",
        "          6.00000000e+01,   6.00000000e+01,   7.90000000e+01,\n",
        "          8.20000000e+01,   7.00000000e+01,   9.80000000e+01,\n",
        "          1.33000000e+02,   1.29000000e+02,   7.80000000e+01,\n",
        "          6.88000000e+02,   2.20000000e+01,   2.00000000e+01,\n",
        "          2.80700000e+03,   1.00000000e+00,   3.00000000e+00]),\n",
        " array([  0.        ,   0.95833333,   1.91666667,   2.875     ,\n",
        "          3.83333333,   4.79166667,   5.75      ,   6.70833333,\n",
        "          7.66666667,   8.625     ,   9.58333333,  10.54166667,\n",
        "         11.5       ,  12.45833333,  13.41666667,  14.375     ,\n",
        "         15.33333333,  16.29166667,  17.25      ,  18.20833333,\n",
        "         19.16666667,  20.125     ,  21.08333333,  22.04166667,  23.        ]),\n",
        " <a list of 24 Patch objects>)"
       ]
      },
      {
       "metadata": {},
       "output_type": "display_data",
       "png": "[encoded data removed]",
       "text": [
        "<matplotlib.figure.Figure at 0xaf3610ec>"
       ]
      }
     ],
     "prompt_number": 21
    },
    {
     "cell_type": "code",
     "collapsed": false,
     "input": [],
     "language": "python",
     "metadata": {},
     "outputs": []
    },
    {
     "cell_type": "code",
     "collapsed": false,
     "input": [
      "soup = BeautifulSoup.BeautifulSoup(open('bookmarks_m.html'))\n",
      "\n",
      "allAttrs = [tag.attrs for tag in soup.findAll('a')]\n",
      "\n",
      "dates = []\n",
      "#len(allAttrs)\n",
      "for i in range(10):\n",
      "        try :\n",
      "                print allAttrs[i]\n",
      "        except IndexError :\n",
      "                print string"
     ],
     "language": "python",
     "metadata": {},
     "outputs": [
      {
       "output_type": "stream",
       "stream": "stdout",
       "text": [
        "[(u'href', u'place:folder=BOOKMARKS_MENU&folder=UNFILED_BOOKMARKS&folder=TOOLBAR&queryType=1&sort=12&maxResults=10&excludeQueries=1'), (u'add_date', u'1449371177'), (u'last_modified', u'1449371177')]\n",
        "[(u'href', u'place:type=6&sort=14&maxResults=10'), (u'add_date', u'1449371177'), (u'last_modified', u'1449371177')]\n",
        "[(u'href', u'http://howtosplitanatom.com/news/32-sci-fi-novels-you-should-read/'), (u'add_date', u'1413733423')]\n",
        "[(u'href', u'http://8tracks.com/sarahtheotaku/the-science-of-studying'), (u'add_date', u'1413668598')]\n",
        "[(u'href', u'http://www.tricki.org/tricki/map'), (u'add_date', u'1413668598')]\n",
        "[(u'href', u'http://astro.berkeley.edu/~aparsons/Aaron_Parsons/Home.html'), (u'add_date', u'1413668598')]\n",
        "[(u'href', u'http://www.acm.uiuc.edu/sigarch/projects/sensornode/'), (u'add_date', u'1413668598')]\n",
        "[(u'href', u'http://jenniferdewalt.com/analog_clock.html'), (u'add_date', u'1413668598')]\n",
        "[(u'href', u'http://gcmd.nasa.gov/KeywordSearch/Keywords.do?Portal=amd&KeywordPath=Parameters%7CSPECTRAL%2FENGINEERING&MetadataType=0&lbnode=mdlb3'), (u'add_date', u'1413668598')]\n",
        "[(u'href', u'https://zapier.com/'), (u'add_date', u'1413668598')]\n"
       ]
      }
     ],
     "prompt_number": 23
    },
    {
     "cell_type": "code",
     "collapsed": false,
     "input": [],
     "language": "python",
     "metadata": {},
     "outputs": []
    }
   ],
   "metadata": {}
  }
 ]
}