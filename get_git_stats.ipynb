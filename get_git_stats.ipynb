{
 "metadata": {
  "name": "",
  "signature": "sha256:fd09e1b67bee2a71d4c1ebbd4ee212c45077c0d902649ab0455f8a756669cedf"
 },
 "nbformat": 3,
 "nbformat_minor": 0,
 "worksheets": [
  {
   "cells": [
    {
     "cell_type": "markdown",
     "metadata": {},
     "source": [
      "I wanted to look at my commit stats on Github. While Github itself \n",
      "displays the number of commits I've done, I wanted to try it myself. \n",
      "In the process, learn something maybe."
     ]
    },
    {
     "cell_type": "markdown",
     "metadata": {},
     "source": [
      "In order to look at the stats, we first need to put them all in the same \n",
      "file. We can run the following command to create a file with the relevant \n",
      "information, which we can parse using Python later in the code. If you are \n",
      "not working on IPython, you can run the same command without the exclamation \n",
      "point on the terminal. Also, I store all of my Github repositories in the \n",
      "home directory, ~, under a directory 'Github'. The * will look through all sub-\n",
      "directories for the file we want."
     ]
    },
    {
     "cell_type": "code",
     "collapsed": false,
     "input": [
      "!more ~/Github/*/.git/logs/HEAD > commit_data.dat"
     ],
     "language": "python",
     "metadata": {},
     "outputs": [],
     "prompt_number": 1
    },
    {
     "cell_type": "markdown",
     "metadata": {},
     "source": [
      "we need the time Python module because we get timestamps in the form of a 10-digit \n",
      "number, which we then need to convert into a date-time format we can understand."
     ]
    },
    {
     "cell_type": "code",
     "collapsed": false,
     "input": [
      "import numpy\n",
      "import matplotlib.pyplot as plt\n",
      "%matplotlib inline\n",
      "import time"
     ],
     "language": "python",
     "metadata": {},
     "outputs": [],
     "prompt_number": 2
    },
    {
     "cell_type": "markdown",
     "metadata": {},
     "source": [
      "We cant run these commands because if you look at the file we just created, \n",
      "you will notice lines containing information on the directory from which the \n",
      "messages were added, which we ofcourse don't need.\n",
      "'''\n",
      "dateList = [line.split()[4] for line in open('commit_data.dat')]\n",
      "dateList = numpy.asarray(dateList, dtype=int)\n",
      "print len(dateList)\n",
      "'''"
     ]
    },
    {
     "cell_type": "code",
     "collapsed": false,
     "input": [
      "dateList = []\n",
      "for line in open('commit_data_temp.dat'):\n",
      "    try:\n",
      "        dateList.append(line.split()[4])\n",
      "    except IndexError:\n",
      "        print line\n",
      "        \n",
      "dateList = numpy.asarray(dateList, dtype=int)\n",
      "print len(dateList)"
     ],
     "language": "python",
     "metadata": {},
     "outputs": [
      {
       "output_type": "stream",
       "stream": "stdout",
       "text": [
        "::::::::::::::\n",
        "\n",
        "/home/rahulporuri/Github/arXiv/.git/logs/HEAD\n",
        "\n",
        "::::::::::::::\n",
        "\n",
        "::::::::::::::\n",
        "\n",
        "/home/rahulporuri/Github/astro_data_projects/.git/logs/HEAD\n",
        "\n",
        "::::::::::::::\n",
        "\n",
        "::::::::::::::\n",
        "\n",
        "/home/rahulporuri/Github/computational_physics/.git/logs/HEAD\n",
        "\n",
        "::::::::::::::\n",
        "\n",
        "::::::::::::::\n",
        "\n",
        "/home/rahulporuri/Github/course_projects/.git/logs/HEAD\n",
        "\n",
        "::::::::::::::\n",
        "\n",
        "::::::::::::::\n",
        "\n",
        "/home/rahulporuri/Github/data_structs_and_algos/.git/logs/HEAD\n",
        "\n",
        "::::::::::::::\n",
        "\n",
        "::::::::::::::\n",
        "\n",
        "/home/rahulporuri/Github/fun_with_physics_models/.git/logs/HEAD\n",
        "\n",
        "::::::::::::::\n",
        "\n",
        "::::::::::::::\n",
        "\n",
        "/home/rahulporuri/Github/math_on_a_comp/.git/logs/HEAD\n",
        "\n",
        "::::::::::::::\n",
        "\n",
        "::::::::::::::\n",
        "\n",
        "/home/rahulporuri/Github/num_methods_in_prog/.git/logs/HEAD\n",
        "\n",
        "::::::::::::::\n",
        "\n",
        "::::::::::::::\n",
        "\n",
        "/home/rahulporuri/Github/peepees/.git/logs/HEAD\n",
        "\n",
        "::::::::::::::\n",
        "\n",
        "::::::::::::::\n",
        "\n",
        "/home/rahulporuri/Github/project_work/.git/logs/HEAD\n",
        "\n",
        "::::::::::::::\n",
        "\n",
        "::::::::::::::\n",
        "\n",
        "/home/rahulporuri/Github/python_astro/.git/logs/HEAD\n",
        "\n",
        "::::::::::::::\n",
        "\n",
        "::::::::::::::\n",
        "\n",
        "/home/rahulporuri/Github/quasar_colors/.git/logs/HEAD\n",
        "\n",
        "::::::::::::::\n",
        "\n",
        "::::::::::::::\n",
        "\n",
        "/home/rahulporuri/Github/rahulporuri.github.io/.git/logs/HEAD\n",
        "\n",
        "::::::::::::::\n",
        "\n",
        "::::::::::::::\n",
        "\n",
        "/home/rahulporuri/Github/setup_files/.git/logs/HEAD\n",
        "\n",
        "::::::::::::::\n",
        "\n",
        "::::::::::::::\n",
        "\n",
        "/home/rahulporuri/Github/tex/.git/logs/HEAD\n",
        "\n",
        "::::::::::::::\n",
        "\n",
        "380\n"
       ]
      }
     ],
     "prompt_number": 3
    },
    {
     "cell_type": "markdown",
     "metadata": {},
     "source": [
      "time.gmtime(foo) will convert the 10-digit timestamp into a format \n",
      "that we can understand, as I had mentioned earlier. You can look \n",
      "at the following example to understand it better."
     ]
    },
    {
     "cell_type": "code",
     "collapsed": false,
     "input": [
      "time.gmtime(1452664187)"
     ],
     "language": "python",
     "metadata": {},
     "outputs": [
      {
       "metadata": {},
       "output_type": "pyout",
       "prompt_number": 10,
       "text": [
        "time.struct_time(tm_year=2016, tm_mon=1, tm_mday=13, tm_hour=5, tm_min=49, tm_sec=47, tm_wday=2, tm_yday=13, tm_isdst=0)"
       ]
      }
     ],
     "prompt_number": 10
    },
    {
     "cell_type": "code",
     "collapsed": false,
     "input": [
      "yearList = []\n",
      "monthList = []\n",
      "dayList = []\n",
      "hourList = []\n",
      "\n",
      "for date in dateList:\n",
      "        temp = time.gmtime(date)\n",
      "        yearList.append(temp.tm_year)\n",
      "        monthList.append(temp.tm_mon)\n",
      "        dayList.append(temp.tm_mday)\n",
      "        hourList.append(temp.tm_hour)\n",
      "\n",
      "yearList = numpy.asarray(yearList)\n",
      "monthrList = numpy.asarray(monthList)\n",
      "dayList = numpy.asarray(dayList)\n",
      "hourList = numpy.asarray(hourList)"
     ],
     "language": "python",
     "metadata": {},
     "outputs": [],
     "prompt_number": 4
    },
    {
     "cell_type": "markdown",
     "metadata": {},
     "source": [
      "I do list(set(fooList)) because I want to confirm that we have \n",
      "meaningful dates. It has happened that a few months of the year \n",
      "or days of the week were missing in a different dataset."
     ]
    },
    {
     "cell_type": "code",
     "collapsed": false,
     "input": [
      "print min(yearList), max(yearList)\n",
      "print list(set(yearList))\n",
      "print list(set(monthList))\n",
      "print list(set(dayList))\n",
      "print list(set(hourList))"
     ],
     "language": "python",
     "metadata": {},
     "outputs": [
      {
       "output_type": "stream",
       "stream": "stdout",
       "text": [
        "2014 2016\n",
        "[2016, 2014, 2015]\n",
        "[1, 2, 3, 4, 5, 6, 7, 8, 9, 10, 11, 12]\n",
        "[1, 2, 3, 4, 5, 6, 7, 8, 9, 10, 11, 12, 13, 14, 15, 16, 17, 18, 19, 20, 21, 22, 23, 24, 25, 26, 27, 28, 29, 30, 31]\n",
        "[0, 1, 2, 3, 4, 5, 6, 7, 8, 9, 10, 11, 12, 13, 14, 15, 16, 17, 18, 19, 20, 21, 23]\n"
       ]
      }
     ],
     "prompt_number": 5
    },
    {
     "cell_type": "code",
     "collapsed": false,
     "input": [
      "plt.hist(yearList, bins=3)"
     ],
     "language": "python",
     "metadata": {},
     "outputs": [
      {
       "metadata": {},
       "output_type": "pyout",
       "prompt_number": 6,
       "text": [
        "(array([  26.,  334.,   20.]),\n",
        " array([ 2014.        ,  2014.66666667,  2015.33333333,  2016.        ]),\n",
        " <a list of 3 Patch objects>)"
       ]
      },
      {
       "metadata": {},
       "output_type": "display_data",
       "png": "[encoded data removed]",
       "text": [
        "<matplotlib.figure.Figure at 0xb03bc38c>"
       ]
      }
     ],
     "prompt_number": 6
    },
    {
     "cell_type": "code",
     "collapsed": false,
     "input": [
      "plt.hist(monthList,bins= 12)"
     ],
     "language": "python",
     "metadata": {},
     "outputs": [
      {
       "metadata": {},
       "output_type": "pyout",
       "prompt_number": 7,
       "text": [
        "(array([ 38.,   7.,  34.,  52.,  16.,  21.,  20.,  32.,  63.,  53.,  24.,\n",
        "         20.]), array([  1.        ,   1.91666667,   2.83333333,   3.75      ,\n",
        "          4.66666667,   5.58333333,   6.5       ,   7.41666667,\n",
        "          8.33333333,   9.25      ,  10.16666667,  11.08333333,  12.        ]), <a list of 12 Patch objects>)"
       ]
      },
      {
       "metadata": {},
       "output_type": "display_data",
       "png": "[encoded data removed]",
       "text": [
        "<matplotlib.figure.Figure at 0xb0377f8c>"
       ]
      }
     ],
     "prompt_number": 7
    },
    {
     "cell_type": "code",
     "collapsed": false,
     "input": [
      "plt.hist(dayList, bins=31)"
     ],
     "language": "python",
     "metadata": {},
     "outputs": [
      {
       "metadata": {},
       "output_type": "pyout",
       "prompt_number": 8,
       "text": [
        "(array([  5.,  14.,  12.,   6.,   6.,  19.,  20.,  17.,   9.,  14.,   9.,\n",
        "          8.,  31.,  16.,  11.,  14.,   8.,  17.,  16.,  13.,  19.,  10.,\n",
        "         12.,   7.,   5.,  10.,  15.,  10.,   8.,  14.,   5.]),\n",
        " array([  1.        ,   1.96774194,   2.93548387,   3.90322581,\n",
        "          4.87096774,   5.83870968,   6.80645161,   7.77419355,\n",
        "          8.74193548,   9.70967742,  10.67741935,  11.64516129,\n",
        "         12.61290323,  13.58064516,  14.5483871 ,  15.51612903,\n",
        "         16.48387097,  17.4516129 ,  18.41935484,  19.38709677,\n",
        "         20.35483871,  21.32258065,  22.29032258,  23.25806452,\n",
        "         24.22580645,  25.19354839,  26.16129032,  27.12903226,\n",
        "         28.09677419,  29.06451613,  30.03225806,  31.        ]),\n",
        " <a list of 31 Patch objects>)"
       ]
      },
      {
       "metadata": {},
       "output_type": "display_data",
       "png": "[encoded data removed]",
       "text": [
        "<matplotlib.figure.Figure at 0xb01d892c>"
       ]
      }
     ],
     "prompt_number": 8
    },
    {
     "cell_type": "markdown",
     "metadata": {},
     "source": [
      "note that the following plot needs to be shifted right by \n",
      "+0530 because I didn't bother doing so myself. The time stamps \n",
      "were with respect to UTC and not local time."
     ]
    },
    {
     "cell_type": "code",
     "collapsed": false,
     "input": [
      "plt.hist(hourList, bins=24)"
     ],
     "language": "python",
     "metadata": {},
     "outputs": [
      {
       "metadata": {},
       "output_type": "pyout",
       "prompt_number": 9,
       "text": [
        "(array([  1.,   5.,  10.,  13.,   7.,  21.,  19.,  23.,  16.,  19.,  29.,\n",
        "         26.,  24.,  18.,  11.,  26.,  33.,  38.,  29.,   5.,   3.,   3.,\n",
        "          0.,   1.]),\n",
        " array([  0.        ,   0.95833333,   1.91666667,   2.875     ,\n",
        "          3.83333333,   4.79166667,   5.75      ,   6.70833333,\n",
        "          7.66666667,   8.625     ,   9.58333333,  10.54166667,\n",
        "         11.5       ,  12.45833333,  13.41666667,  14.375     ,\n",
        "         15.33333333,  16.29166667,  17.25      ,  18.20833333,\n",
        "         19.16666667,  20.125     ,  21.08333333,  22.04166667,  23.        ]),\n",
        " <a list of 24 Patch objects>)"
       ]
      },
      {
       "metadata": {},
       "output_type": "display_data",
       "png": "[encoded data removed]",
       "text": [
        "<matplotlib.figure.Figure at 0xb04bd26c>"
       ]
      }
     ],
     "prompt_number": 9
    }
   ],
   "metadata": {}
  }
 ]
}