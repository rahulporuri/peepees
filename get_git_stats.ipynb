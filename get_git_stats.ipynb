{
 "metadata": {
  "name": "",
  "signature": "sha256:87a0e9b052a1174633574efd7fbb0b4a4283a1234a5c171e8db955c26c128a53"
 },
 "nbformat": 3,
 "nbformat_minor": 0,
 "worksheets": [
  {
   "cells": [
    {
     "cell_type": "code",
     "collapsed": false,
     "input": [
      "import numpy\n",
      "import matplotlib.pyplot as plt\n",
      "%matplotlib inline\n",
      "import time"
     ],
     "language": "python",
     "metadata": {},
     "outputs": [],
     "prompt_number": 1
    },
    {
     "cell_type": "code",
     "collapsed": false,
     "input": [
      "dateList = [line.split()[4] for line in open('commit_data.dat')]\n",
      "dateList = numpy.asarray(dateList, dtype=int)\n",
      "print len(dateList)"
     ],
     "language": "python",
     "metadata": {},
     "outputs": [
      {
       "output_type": "stream",
       "stream": "stdout",
       "text": [
        "364\n"
       ]
      }
     ],
     "prompt_number": 2
    },
    {
     "cell_type": "code",
     "collapsed": false,
     "input": [
      "yearList = []\n",
      "monthList = []\n",
      "dayList = []\n",
      "hourList = []\n",
      "\n",
      "for date in dateList:\n",
      "        temp = time.gmtime(date)\n",
      "        yearList.append(temp.tm_year)\n",
      "        monthList.append(temp.tm_mon)\n",
      "        dayList.append(temp.tm_mday)\n",
      "        hourList.append(temp.tm_hour)\n",
      "\n",
      "yearList = numpy.asarray(yearList)\n",
      "monthrList = numpy.asarray(monthList)\n",
      "dayList = numpy.asarray(dayList)\n",
      "hourList = numpy.asarray(hourList)"
     ],
     "language": "python",
     "metadata": {},
     "outputs": [],
     "prompt_number": 3
    },
    {
     "cell_type": "code",
     "collapsed": false,
     "input": [
      "print min(yearList), max(yearList)\n",
      "print list(set(yearList))\n",
      "print list(set(monthList))\n",
      "print list(set(dayList))\n",
      "print list(set(hourList))"
     ],
     "language": "python",
     "metadata": {},
     "outputs": [
      {
       "output_type": "stream",
       "stream": "stdout",
       "text": [
        "2014 2016\n",
        "[2016, 2014, 2015]\n",
        "[1, 2, 3, 4, 5, 6, 7, 8, 9, 10, 11, 12]\n",
        "[1, 2, 3, 4, 5, 6, 7, 8, 9, 10, 11, 12, 13, 14, 15, 16, 17, 18, 19, 20, 21, 22, 23, 24, 25, 26, 27, 28, 29, 30, 31]\n",
        "[0, 1, 2, 3, 4, 5, 6, 7, 8, 9, 10, 11, 12, 13, 14, 15, 16, 17, 18, 19, 20, 21, 23]\n"
       ]
      }
     ],
     "prompt_number": 4
    },
    {
     "cell_type": "code",
     "collapsed": false,
     "input": [
      "plt.hist(yearList, bins=3)"
     ],
     "language": "python",
     "metadata": {},
     "outputs": [
      {
       "metadata": {},
       "output_type": "pyout",
       "prompt_number": 5,
       "text": [
        "(array([  24.,  322.,   18.]),\n",
        " array([ 2014.        ,  2014.66666667,  2015.33333333,  2016.        ]),\n",
        " <a list of 3 Patch objects>)"
       ]
      },
      {
       "metadata": {},
       "output_type": "display_data",
       "png": "[encoded data removed]",
       "text": [
        "<matplotlib.figure.Figure at 0xb03f82cc>"
       ]
      }
     ],
     "prompt_number": 5
    },
    {
     "cell_type": "code",
     "collapsed": false,
     "input": [
      "plt.hist(monthList,bins= 12)"
     ],
     "language": "python",
     "metadata": {},
     "outputs": [
      {
       "metadata": {},
       "output_type": "pyout",
       "prompt_number": 6,
       "text": [
        "(array([ 36.,   7.,  31.,  47.,  15.,  21.,  20.,  31.,  62.,  51.,  24.,\n",
        "         19.]), array([  1.        ,   1.91666667,   2.83333333,   3.75      ,\n",
        "          4.66666667,   5.58333333,   6.5       ,   7.41666667,\n",
        "          8.33333333,   9.25      ,  10.16666667,  11.08333333,  12.        ]), <a list of 12 Patch objects>)"
       ]
      },
      {
       "metadata": {},
       "output_type": "display_data",
       "png": "[encoded data removed]",
       "text": [
        "<matplotlib.figure.Figure at 0xb03b428c>"
       ]
      }
     ],
     "prompt_number": 6
    },
    {
     "cell_type": "code",
     "collapsed": false,
     "input": [
      "plt.hist(dayList, bins=31)"
     ],
     "language": "python",
     "metadata": {},
     "outputs": [
      {
       "metadata": {},
       "output_type": "pyout",
       "prompt_number": 7,
       "text": [
        "(array([  4.,  13.,  11.,   6.,   6.,  19.,  19.,  17.,   9.,  13.,   9.,\n",
        "          7.,  29.,  16.,   7.,  13.,   8.,  17.,  16.,  13.,  18.,  10.,\n",
        "         12.,   7.,   5.,  10.,  13.,  10.,   8.,  14.,   5.]),\n",
        " array([  1.        ,   1.96774194,   2.93548387,   3.90322581,\n",
        "          4.87096774,   5.83870968,   6.80645161,   7.77419355,\n",
        "          8.74193548,   9.70967742,  10.67741935,  11.64516129,\n",
        "         12.61290323,  13.58064516,  14.5483871 ,  15.51612903,\n",
        "         16.48387097,  17.4516129 ,  18.41935484,  19.38709677,\n",
        "         20.35483871,  21.32258065,  22.29032258,  23.25806452,\n",
        "         24.22580645,  25.19354839,  26.16129032,  27.12903226,\n",
        "         28.09677419,  29.06451613,  30.03225806,  31.        ]),\n",
        " <a list of 31 Patch objects>)"
       ]
      },
      {
       "metadata": {},
       "output_type": "display_data",
       "png": "[encoded data removed]",
       "text": [
        "<matplotlib.figure.Figure at 0xb02168ac>"
       ]
      }
     ],
     "prompt_number": 7
    },
    {
     "cell_type": "code",
     "collapsed": false,
     "input": [
      "plt.hist(hourList, bins=24)"
     ],
     "language": "python",
     "metadata": {},
     "outputs": [
      {
       "metadata": {},
       "output_type": "pyout",
       "prompt_number": 8,
       "text": [
        "(array([  1.,   5.,  10.,  13.,   7.,  20.,  19.,  22.,  16.,  17.,  28.,\n",
        "         26.,  22.,  17.,   7.,  26.,  33.,  37.,  26.,   5.,   3.,   3.,\n",
        "          0.,   1.]),\n",
        " array([  0.        ,   0.95833333,   1.91666667,   2.875     ,\n",
        "          3.83333333,   4.79166667,   5.75      ,   6.70833333,\n",
        "          7.66666667,   8.625     ,   9.58333333,  10.54166667,\n",
        "         11.5       ,  12.45833333,  13.41666667,  14.375     ,\n",
        "         15.33333333,  16.29166667,  17.25      ,  18.20833333,\n",
        "         19.16666667,  20.125     ,  21.08333333,  22.04166667,  23.        ]),\n",
        " <a list of 24 Patch objects>)"
       ]
      },
      {
       "metadata": {},
       "output_type": "display_data",
       "png": "[encoded data removed]",
       "text": [
        "<matplotlib.figure.Figure at 0xb021616c>"
       ]
      }
     ],
     "prompt_number": 8
    },
    {
     "cell_type": "code",
     "collapsed": false,
     "input": [],
     "language": "python",
     "metadata": {},
     "outputs": []
    }
   ],
   "metadata": {}
  }
 ]
}