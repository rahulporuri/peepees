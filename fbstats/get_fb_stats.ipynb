{
 "metadata": {
  "name": "",
  "signature": "sha256:0967d740a0f7640c2e66dc5522b640a272861b9bfd603d8b9d4691e52f2969b9"
 },
 "nbformat": 3,
 "nbformat_minor": 0,
 "worksheets": [
  {
   "cells": [
    {
     "cell_type": "markdown",
     "metadata": {},
     "source": [
      "If you came here from the blog part of my website, you can go back to it by clicking [here](http://rahulporuri.github.io/blog.html) or if you came here from my blogpost, you can go back to it by clicking [here](http://rahulporuri.blogspot.in/)."
     ]
    },
    {
     "cell_type": "markdown",
     "metadata": {},
     "source": [
      "A long, long time back, I had downloaded a copy of my facebook data, which included information on all the posts I had written over the years, all of the comments I'd written and things I liked. More recently, similar to the other pet projects I am working on, I wanted to look at basic statistics of my activity on facebook. If you want to do the same, go [here](https://www.facebook.com/settings) and click on \"Download a copy of your Facebook data\". Once you've downloaded it, you will find a .htm file titled 'wall.htm'. Again, if you don't have IPython, you can run the python code that can be found [here](https://github.com/rahulporuri/peepees/blob/master/get_fb_stats.py)"
     ]
    },
    {
     "cell_type": "markdown",
     "metadata": {},
     "source": [
      "I use the BeautifulSoup module to parse the .htm file."
     ]
    },
    {
     "cell_type": "code",
     "collapsed": false,
     "input": [
      "import numpy\n",
      "import BeautifulSoup\n",
      "import time"
     ],
     "language": "python",
     "metadata": {},
     "outputs": [],
     "prompt_number": 1
    },
    {
     "cell_type": "markdown",
     "metadata": {},
     "source": [
      "if you look at the 'wall.htm' file, you will understand the structure and where the timestamps pertaining to posts, comments and whatnot are. They are the 'string' attribute of the 'div' elements in the htm file."
     ]
    },
    {
     "cell_type": "code",
     "collapsed": false,
     "input": [
      "soup = BeautifulSoup.BeautifulSoup(open('wall.htm'))\n",
      "allAttrs = [[tag.attrs, tag.string] for tag in soup.findAll('div')]"
     ],
     "language": "python",
     "metadata": {},
     "outputs": [],
     "prompt_number": 2
    },
    {
     "cell_type": "markdown",
     "metadata": {},
     "source": [
      "the attribute u'meta' corresponds to the timestamps of any and every activity on my wall. the attribute u'comment' corresponds to comments. Blindly getting tag.string values will add noise to our timestamp dataset so we check to make sure that the attribute is meta before we add the string/timestamp."
     ]
    },
    {
     "cell_type": "code",
     "collapsed": false,
     "input": [
      "dates = []\n",
      "for string in allAttrs:\n",
      "    try :\n",
      "        if string[0][0][1] == u'meta':\n",
      "            try :\n",
      "                dates.append(str(str(string[1]).strip('u')).split())\n",
      "            except TypeError :\n",
      "                print string\n",
      "    except IndexError:\n",
      "        pass\n",
      "\n",
      "#dateList = numpy.asarray(dates, dtype=int)\n",
      "\n",
      "print len(dates)"
     ],
     "language": "python",
     "metadata": {},
     "outputs": [
      {
       "output_type": "stream",
       "stream": "stdout",
       "text": [
        "2367\n"
       ]
      }
     ],
     "prompt_number": 3
    },
    {
     "cell_type": "markdown",
     "metadata": {},
     "source": [
      "how the string/time stamps look"
     ]
    },
    {
     "cell_type": "code",
     "collapsed": false,
     "input": [
      "dates[:10]"
     ],
     "language": "python",
     "metadata": {},
     "outputs": [
      {
       "metadata": {},
       "output_type": "pyout",
       "prompt_number": 4,
       "text": [
        "[['Monday,', 'January', '11,', '2016', 'at', '1:13am', 'UTC+05:30'],\n",
        " ['Sunday,', 'January', '10,', '2016', 'at', '6:32pm', 'UTC+05:30'],\n",
        " ['Sunday,', 'January', '10,', '2016', 'at', '5:53pm', 'UTC+05:30'],\n",
        " ['Saturday,', 'January', '9,', '2016', 'at', '5:24pm', 'UTC+05:30'],\n",
        " ['Friday,', 'January', '1,', '2016', 'at', '9:51pm', 'UTC+05:30'],\n",
        " ['Thursday,', 'December', '31,', '2015', 'at', '7:40pm', 'UTC+05:30'],\n",
        " ['Sunday,', 'December', '27,', '2015', 'at', '10:46am', 'UTC+05:30'],\n",
        " ['Friday,', 'December', '25,', '2015', 'at', '6:29pm', 'UTC+05:30'],\n",
        " ['Friday,', 'December', '25,', '2015', 'at', '6:24pm', 'UTC+05:30'],\n",
        " ['Tuesday,', 'December', '22,', '2015', 'at', '8:30am', 'UTC+05:30']]"
       ]
      }
     ],
     "prompt_number": 4
    },
    {
     "cell_type": "code",
     "collapsed": false,
     "input": [
      "dayList = []\n",
      "dateList = []\n",
      "monthList = []\n",
      "yearList = []\n",
      "\n",
      "for string in dates:\n",
      "        try:\n",
      "                dayList.append(string[0])\n",
      "                dateList.append(string[2])\n",
      "                monthList.append(string[1])\n",
      "                yearList.append(string[3])\n",
      "        except IndexError:\n",
      "                print string                "
     ],
     "language": "python",
     "metadata": {},
     "outputs": [],
     "prompt_number": 5
    },
    {
     "cell_type": "markdown",
     "metadata": {},
     "source": [
      "from the numerous lists, we create a dictionary that tells us how many of each day/date/month/year are present in the list."
     ]
    },
    {
     "cell_type": "code",
     "collapsed": false,
     "input": [
      "dayListDict = dict((x, dayList.count(x)) for x in dayList)\n",
      "dateListDict = dict((x, dateList.count(x)) for x in dateList)\n",
      "monthListDict = dict((x, monthList.count(x)) for x in monthList)\n",
      "yearListDict = dict((x, yearList.count(x)) for x in yearList)"
     ],
     "language": "python",
     "metadata": {},
     "outputs": [],
     "prompt_number": 6
    },
    {
     "cell_type": "code",
     "collapsed": false,
     "input": [
      "print dayListDict"
     ],
     "language": "python",
     "metadata": {},
     "outputs": [
      {
       "output_type": "stream",
       "stream": "stdout",
       "text": [
        "{'Tuesday,': 348, 'Wednesday,': 361, 'Monday,': 347, 'Friday,': 339, 'Sunday,': 397, 'Thursday,': 297, 'Saturday,': 278}\n"
       ]
      }
     ],
     "prompt_number": 7
    },
    {
     "cell_type": "code",
     "collapsed": false,
     "input": [
      "print dayListDict['Monday,'], dayListDict['Tuesday,'], dayListDict['Wednesday,']\n",
      "print dayListDict['Thursday,'], dayListDict['Friday,'], dayListDict['Saturday,'], dayListDict['Sunday,']"
     ],
     "language": "python",
     "metadata": {},
     "outputs": [
      {
       "output_type": "stream",
       "stream": "stdout",
       "text": [
        "347 348 361\n",
        "297 339 278 397\n"
       ]
      }
     ],
     "prompt_number": 8
    },
    {
     "cell_type": "code",
     "collapsed": false,
     "input": [
      "print monthListDict"
     ],
     "language": "python",
     "metadata": {},
     "outputs": [
      {
       "output_type": "stream",
       "stream": "stdout",
       "text": [
        "{'February': 422, 'October': 220, 'March': 183, 'August': 144, 'April': 115, 'September': 247, 'January': 122, 'June': 219, 'May': 166, 'December': 231, 'November': 115, 'July': 183}\n"
       ]
      }
     ],
     "prompt_number": 9
    },
    {
     "cell_type": "code",
     "collapsed": false,
     "input": [
      "print monthListDict['January'], monthListDict['February'], monthListDict['March'], monthListDict['April']\n",
      "print monthListDict['May'], monthListDict['June'], monthListDict['July'], monthListDict['August']\n",
      "print monthListDict['September'], monthListDict['October'], monthListDict['November'], monthListDict['December']"
     ],
     "language": "python",
     "metadata": {},
     "outputs": [
      {
       "output_type": "stream",
       "stream": "stdout",
       "text": [
        "122 422 183 115\n",
        "166 219 183 144\n",
        "247 220 115 231\n"
       ]
      }
     ],
     "prompt_number": 10
    },
    {
     "cell_type": "code",
     "collapsed": false,
     "input": [
      "print yearListDict"
     ],
     "language": "python",
     "metadata": {},
     "outputs": [
      {
       "output_type": "stream",
       "stream": "stdout",
       "text": [
        "{'2009': 51, '2015': 204, '2014': 252, '2016': 5, '2011': 474, '2010': 225, '2013': 661, '2012': 495}\n"
       ]
      }
     ],
     "prompt_number": 11
    },
    {
     "cell_type": "code",
     "collapsed": false,
     "input": [
      "print yearListDict['2009'], yearListDict['2010'], yearListDict['2011'], yearListDict['2012']\n",
      "print yearListDict['2013'], yearListDict['2014'], yearListDict['2015']"
     ],
     "language": "python",
     "metadata": {},
     "outputs": [
      {
       "output_type": "stream",
       "stream": "stdout",
       "text": [
        "51 225 474 495\n",
        "661 252 204\n"
       ]
      }
     ],
     "prompt_number": 12
    },
    {
     "cell_type": "code",
     "collapsed": false,
     "input": [
      "print dateListDict"
     ],
     "language": "python",
     "metadata": {},
     "outputs": [
      {
       "output_type": "stream",
       "stream": "stdout",
       "text": [
        "{'23,': 62, '17,': 72, '25,': 52, '11,': 82, '27,': 118, '13,': 86, '19,': 60, '31,': 88, '21,': 62, '15,': 74, '8,': 63, '18,': 109, '4,': 60, '2,': 71, '16,': 59, '22,': 71, '9,': 89, '10,': 79, '24,': 63, '7,': 66, '12,': 57, '26,': 62, '30,': 59, '6,': 294, '14,': 56, '20,': 38, '28,': 54, '29,': 74, '5,': 45, '3,': 89, '1,': 53}\n"
       ]
      }
     ],
     "prompt_number": 13
    },
    {
     "cell_type": "markdown",
     "metadata": {},
     "source": [
      "If you came here from the blog part of my website, you can go back to it by clicking [here](http://rahulporuri.github.io/blog.html) or if you came here from my blogpost, you can go back to it by clicking [here](http://rahulporuri.blogspot.in/)."
     ]
    }
   ],
   "metadata": {}
  }
 ]
}