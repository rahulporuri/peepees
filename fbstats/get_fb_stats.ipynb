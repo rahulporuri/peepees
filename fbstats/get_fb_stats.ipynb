{
 "cells": [
  {
   "cell_type": "markdown",
   "metadata": {},
   "source": [
    "A long, long time back, I had downloaded a copy of my facebook data, which included information on all the posts I had written over the years, all of the comments I'd written and things I liked. More recently, similar to the other pet projects I am working on, I wanted to look at basic statistics of my activity on facebook, like on what day of the week am I most active or what time of the day and so on. If you're interested in downloading the data that Facebook has on you, go [here](https://www.facebook.com/settings) and click on \"Download a copy of your Facebook data\". Once you've downloaded it, you will find a .htm file titled 'wall.htm'. If you don't know already, what you're reading is a Jupyter Notebook. If you don't have it installed, you can still print the relevant stats and make plots by running the python code that can be found [here](https://github.com/rahulporuri/peepees/blob/master/get_fb_stats.py)"
   ]
  },
  {
   "cell_type": "markdown",
   "metadata": {},
   "source": [
    "Also, I use the [BeautifulSoup](www.crummy.com/software/BeautifulSoup/bs4/doc/) python library to parse the .htm file."
   ]
  },
  {
   "cell_type": "code",
   "execution_count": 1,
   "metadata": {
    "collapsed": false
   },
   "outputs": [],
   "source": [
    "import numpy\n",
    "import BeautifulSoup\n",
    "import time"
   ]
  },
  {
   "cell_type": "code",
   "execution_count": 2,
   "metadata": {
    "collapsed": true
   },
   "outputs": [],
   "source": [
    "import matplotlib.pyplot as plt\n",
    "%matplotlib inline"
   ]
  },
  {
   "cell_type": "markdown",
   "metadata": {},
   "source": [
    "if you look at the `wall.htm` file, you will understand the structure of the file and the information it contains, such as information regarding the timestamps pertaining to posts, comments are. They are the `string` attribute of the `div` elements in the htm file."
   ]
  },
  {
   "cell_type": "markdown",
   "metadata": {},
   "source": [
    "the `wall.htm` might not look clean if you open it up on a text editor. If you're interested, you can use \n",
    "BeautifulSoup to prettify the output using\n",
    "`print(soup.prettify())`"
   ]
  },
  {
   "cell_type": "code",
   "execution_count": 3,
   "metadata": {
    "collapsed": false
   },
   "outputs": [],
   "source": [
    "soup = BeautifulSoup.BeautifulSoup(open('wall.htm'))\n",
    "allAttrs = [[tag.attrs, tag.string] for tag in soup.findAll('div')]"
   ]
  },
  {
   "cell_type": "markdown",
   "metadata": {},
   "source": [
    "what we did above was to take the html soup and used the BeautifulSoup\n",
    "library to look for all of the `<div></div>` html tags in it. Once \n",
    "BeautifulSoup found those html tags, we asked it to create a 2D list\n",
    "containing the attributes of the tag i.e `class=\"meta\"` or `\"comment\"` \n",
    "and the string between the html tags.\n",
    "\n",
    "See below for how a part of the soup/html file looks like."
   ]
  },
  {
   "cell_type": "markdown",
   "metadata": {},
   "source": [
    "<p>\n",
    " <div class=\"meta\">\n",
    "  Monday, January 11, 2016 at 1:13am UTC+05:30\n",
    " </div>\n",
    " Rahul Poruri shared Lunarbaboon&#039;s photo.\n",
    "</p>\n",
    "<p>\n",
    " <div class=\"meta\">\n",
    "  Sunday, January 10, 2016 at 6:32pm UTC+05:30\n",
    " </div>\n",
    " Rahul Poruri shared a link.\n",
    "</p>"
   ]
  },
  {
   "cell_type": "markdown",
   "metadata": {},
   "source": [
    "the attribute `u'meta'` corresponds to the timestamps of any and every activity on my wall. the attribute `u'comment'` corresponds to comments. Blindly getting `tag.string` values will add noise to our timestamp dataset so we check to make sure that the attribute is `u'meta'` before we add the string/timestamp. Below, we simply collect all such time stamps into the list `dates`."
   ]
  },
  {
   "cell_type": "code",
   "execution_count": 4,
   "metadata": {
    "collapsed": false
   },
   "outputs": [
    {
     "data": {
      "text/plain": [
       "[[(u'class', u'meta')], u'Sunday, December 6, 2015 at 10:14am UTC+05:30']"
      ]
     },
     "execution_count": 4,
     "metadata": {},
     "output_type": "execute_result"
    }
   ],
   "source": [
    "allAttrs[20]"
   ]
  },
  {
   "cell_type": "code",
   "execution_count": 5,
   "metadata": {
    "collapsed": false
   },
   "outputs": [
    {
     "data": {
      "text/plain": [
       "'Sunday, December 6, 2015 at 10:14am UTC+05:30'"
      ]
     },
     "execution_count": 5,
     "metadata": {},
     "output_type": "execute_result"
    }
   ],
   "source": [
    "str(allAttrs[20][1])"
   ]
  },
  {
   "cell_type": "markdown",
   "metadata": {},
   "source": [
    "The structure of each element in `allAttrs` and our need to check for the `tag.attrs` to be `u'meta'` is the reason why you see `string[0][0][1]` in the `if` statement. And, as you can see sbove, the second element of each element in `allAttrs` contains the timestamps that we want to extract."
   ]
  },
  {
   "cell_type": "code",
   "execution_count": 6,
   "metadata": {
    "collapsed": false
   },
   "outputs": [
    {
     "name": "stdout",
     "output_type": "stream",
     "text": [
      "2367\n"
     ]
    }
   ],
   "source": [
    "dates = []\n",
    "for string in allAttrs:\n",
    "    try :\n",
    "        if string[0][0][1] == u'meta':\n",
    "            try :\n",
    "                dates.append(str(string[1]).split())\n",
    "                \"\"\" str(string[1]) first converts the unicode string into an ascii string.\n",
    "                the .split() method then splits the original string into smaller strings.\n",
    "                \"\"\"\n",
    "            except TypeError :\n",
    "                print string\n",
    "    except IndexError:\n",
    "        pass\n",
    "\n",
    "print len(dates)"
   ]
  },
  {
   "cell_type": "markdown",
   "metadata": {},
   "source": [
    "how the string/time stamps look\n",
    "--------------------------------"
   ]
  },
  {
   "cell_type": "code",
   "execution_count": 7,
   "metadata": {
    "collapsed": false
   },
   "outputs": [
    {
     "data": {
      "text/plain": [
       "[['Monday,', 'January', '11,', '2016', 'at', '1:13am', 'UTC+05:30'],\n",
       " ['Sunday,', 'January', '10,', '2016', 'at', '6:32pm', 'UTC+05:30'],\n",
       " ['Sunday,', 'January', '10,', '2016', 'at', '5:53pm', 'UTC+05:30'],\n",
       " ['Saturday,', 'January', '9,', '2016', 'at', '5:24pm', 'UTC+05:30'],\n",
       " ['Friday,', 'January', '1,', '2016', 'at', '9:51pm', 'UTC+05:30'],\n",
       " ['Thursday,', 'December', '31,', '2015', 'at', '7:40pm', 'UTC+05:30'],\n",
       " ['Sunday,', 'December', '27,', '2015', 'at', '10:46am', 'UTC+05:30'],\n",
       " ['Friday,', 'December', '25,', '2015', 'at', '6:29pm', 'UTC+05:30'],\n",
       " ['Friday,', 'December', '25,', '2015', 'at', '6:24pm', 'UTC+05:30'],\n",
       " ['Tuesday,', 'December', '22,', '2015', 'at', '8:30am', 'UTC+05:30']]"
      ]
     },
     "execution_count": 7,
     "metadata": {},
     "output_type": "execute_result"
    }
   ],
   "source": [
    "dates[:10]"
   ]
  },
  {
   "cell_type": "code",
   "execution_count": 8,
   "metadata": {
    "collapsed": false
   },
   "outputs": [],
   "source": [
    "dayList = []\n",
    "dateList = []\n",
    "monthList = []\n",
    "yearList = []\n",
    "\n",
    "for string in dates:\n",
    "    try:\n",
    "        \"\"\" note that the zeroth element in each element of dates\n",
    "        is the day. the first is the month. the second is the date.\n",
    "        the third is the year and the fifth is the time of the day.\n",
    "        \"\"\"\n",
    "        dayList.append(string[0].strip(','))\n",
    "        dateList.append(int(string[2].strip(',')))\n",
    "        monthList.append(string[1])\n",
    "        yearList.append(int(string[3]))\n",
    "    except IndexError:\n",
    "        print string"
   ]
  },
  {
   "cell_type": "code",
   "execution_count": 9,
   "metadata": {
    "collapsed": false
   },
   "outputs": [],
   "source": [
    "timeList = []\n",
    "\n",
    "for string in dates:\n",
    "    try:\n",
    "        \"\"\" getting the time information out of the individual elements \n",
    "        in dates is harder than it was to get the date/day information.\n",
    "        this is because we have the am/pm suffixes and it would simply be \n",
    "        easier if we had 0-23 hr notation. Which is what we do here.\n",
    "        \"\"\"\n",
    "        if string[5][-2] == 'a':\n",
    "            \"\"\" if the second-to-last element of the string containing the\n",
    "            time stamp is 'a', split the string using the ':' character as \n",
    "            the seperator and save the first value. Otherwise, add 12 to \n",
    "            the value and save.\n",
    "            \"\"\"\n",
    "            if int(string[5].split(':')[0]) == 12:\n",
    "                timeList.append(0)\n",
    "            else:\n",
    "                timeList.append(int(string[5].split(':')[0]))\n",
    "        else:\n",
    "            if int(string[5].split(':')[0]) == 12:\n",
    "                timeList.append(int(string[5].split(':')[0]))\n",
    "            else:  \n",
    "                timeList.append(int(string[5].split(':')[0]) + 12)\n",
    "    except IndexError:\n",
    "        print string"
   ]
  },
  {
   "cell_type": "markdown",
   "metadata": {},
   "source": [
    "from the numerous lists, we create a dictionary that tells us how many of each day/date/month/year are present in the list."
   ]
  },
  {
   "cell_type": "code",
   "execution_count": 10,
   "metadata": {
    "collapsed": false
   },
   "outputs": [],
   "source": [
    "dayListDict = dict((x, dayList.count(x)) for x in dayList)\n",
    "dateListDict = dict((x, dateList.count(x)) for x in dateList)\n",
    "monthListDict = dict((x, monthList.count(x)) for x in monthList)\n",
    "yearListDict = dict((x, yearList.count(x)) for x in yearList)\n",
    "timeListDict = dict((x, timeList.count(x)) for x in timeList)"
   ]
  },
  {
   "cell_type": "code",
   "execution_count": 11,
   "metadata": {
    "collapsed": false
   },
   "outputs": [
    {
     "name": "stdout",
     "output_type": "stream",
     "text": [
      "347 348 361\n",
      "297 339 278 397\n"
     ]
    }
   ],
   "source": [
    "print dayListDict['Monday'], dayListDict['Tuesday'], dayListDict['Wednesday']\n",
    "print dayListDict['Thursday'], dayListDict['Friday'], dayListDict['Saturday'], dayListDict['Sunday']"
   ]
  },
  {
   "cell_type": "markdown",
   "metadata": {},
   "source": [
    "As you can see above, my activity has peaks on a sunday, as expected, but surprisingly, it has a low on a saturday."
   ]
  },
  {
   "cell_type": "code",
   "execution_count": 12,
   "metadata": {
    "collapsed": false
   },
   "outputs": [
    {
     "name": "stdout",
     "output_type": "stream",
     "text": [
      "122 422 183 115\n",
      "166 219 183 144\n",
      "247 220 115 231\n"
     ]
    }
   ],
   "source": [
    "print monthListDict['January'], monthListDict['February'], monthListDict['March'], monthListDict['April']\n",
    "print monthListDict['May'], monthListDict['June'], monthListDict['July'], monthListDict['August']\n",
    "print monthListDict['September'], monthListDict['October'], monthListDict['November'], monthListDict['December']"
   ]
  },
  {
   "cell_type": "markdown",
   "metadata": {},
   "source": [
    "As you can see, I am the most active in February. And this is not without reason. For those of you who know me, my birthday is on February the 2nd so that anamoly is justified because of the birthday wishes.\n",
    "\n",
    "Otherwise, as you can see, after a low in April, which is when the end semester exams for the even semester occur, my activity peaks in June, in the middle of the summer, and then drops till the beginning of the odd semester in August, followed by a high in September, another low in November, which is when the end semester exams for the odd semester occur and ending with a high in December."
   ]
  },
  {
   "cell_type": "code",
   "execution_count": 13,
   "metadata": {
    "collapsed": false
   },
   "outputs": [
    {
     "data": {
      "text/plain": [
       "{2009: 51,\n",
       " 2010: 225,\n",
       " 2011: 474,\n",
       " 2012: 495,\n",
       " 2013: 661,\n",
       " 2014: 252,\n",
       " 2015: 204,\n",
       " 2016: 5}"
      ]
     },
     "execution_count": 13,
     "metadata": {},
     "output_type": "execute_result"
    }
   ],
   "source": [
    "yearListDict"
   ]
  },
  {
   "cell_type": "markdown",
   "metadata": {},
   "source": [
    "As you can see, it looks like I joined facebook in 2009, which is also when I joined IIT Madras. My activity kept growing till 2013, which is when it peaked and then dropped off drastically in 2014, 2015. And there's a good enough reason for that as well. 2013 is when most of my batchmates and the people I hung out with graduated."
   ]
  },
  {
   "cell_type": "code",
   "execution_count": 14,
   "metadata": {
    "collapsed": false
   },
   "outputs": [
    {
     "data": {
      "text/plain": [
       "<matplotlib.text.Text at 0x115ae3490>"
      ]
     },
     "execution_count": 14,
     "metadata": {},
     "output_type": "execute_result"
    },
    {
     "data": {
      "image/png": "[encoded data removed]",
      "text/plain": [
       "<matplotlib.figure.Figure at 0x112db2810>"
      ]
     },
     "metadata": {},
     "output_type": "display_data"
    }
   ],
   "source": [
    "plt.hist([int(item) for item in yearList], bins=8)\n",
    "plt.title('by year')"
   ]
  },
  {
   "cell_type": "markdown",
   "metadata": {},
   "source": [
    "I'm lazy so I couldn't be bothered to add proper bin labels at the bottom of the plot above, which starts from the bin corresponding to 2009 at the left and ends with the bin for 2015 at the right."
   ]
  },
  {
   "cell_type": "code",
   "execution_count": 15,
   "metadata": {
    "collapsed": false
   },
   "outputs": [
    {
     "data": {
      "text/plain": [
       "{0: 80,\n",
       " 1: 72,\n",
       " 2: 41,\n",
       " 3: 24,\n",
       " 4: 30,\n",
       " 5: 53,\n",
       " 6: 65,\n",
       " 7: 55,\n",
       " 8: 46,\n",
       " 9: 79,\n",
       " 10: 86,\n",
       " 11: 102,\n",
       " 12: 209,\n",
       " 13: 98,\n",
       " 14: 106,\n",
       " 15: 100,\n",
       " 16: 144,\n",
       " 17: 111,\n",
       " 18: 182,\n",
       " 19: 152,\n",
       " 20: 121,\n",
       " 21: 131,\n",
       " 22: 113,\n",
       " 23: 167}"
      ]
     },
     "execution_count": 15,
     "metadata": {},
     "output_type": "execute_result"
    }
   ],
   "source": [
    "timeListDict"
   ]
  },
  {
   "cell_type": "code",
   "execution_count": 16,
   "metadata": {
    "collapsed": false
   },
   "outputs": [
    {
     "data": {
      "text/plain": [
       "<matplotlib.text.Text at 0x115f27dd0>"
      ]
     },
     "execution_count": 16,
     "metadata": {},
     "output_type": "execute_result"
    },
    {
     "data": {
      "image/png": "[encoded data removed]",
      "text/plain": [
       "<matplotlib.figure.Figure at 0x112db2b10>"
      ]
     },
     "metadata": {},
     "output_type": "display_data"
    }
   ],
   "source": [
    "plt.hist([int(item) for item in timeList], bins=24)\n",
    "plt.title('by hour')"
   ]
  },
  {
   "cell_type": "markdown",
   "metadata": {},
   "source": [
    "As expected, my activity has an initial peak at around 6/7 AM in the morning, which then dips and slowly rises, with a peak at 12 PM i.e lunch time. It remained roughly constant till around 5 PM, at which point it peaked again at 6-7PM, before dinner, and then dipped till another peak at 11PM, only to drop off drastically afterwards."
   ]
  },
  {
   "cell_type": "code",
   "execution_count": 17,
   "metadata": {
    "collapsed": false
   },
   "outputs": [
    {
     "data": {
      "text/plain": [
       "{1: 53,\n",
       " 2: 71,\n",
       " 3: 89,\n",
       " 4: 60,\n",
       " 5: 45,\n",
       " 6: 294,\n",
       " 7: 66,\n",
       " 8: 63,\n",
       " 9: 89,\n",
       " 10: 79,\n",
       " 11: 82,\n",
       " 12: 57,\n",
       " 13: 86,\n",
       " 14: 56,\n",
       " 15: 74,\n",
       " 16: 59,\n",
       " 17: 72,\n",
       " 18: 109,\n",
       " 19: 60,\n",
       " 20: 38,\n",
       " 21: 62,\n",
       " 22: 71,\n",
       " 23: 62,\n",
       " 24: 63,\n",
       " 25: 52,\n",
       " 26: 62,\n",
       " 27: 118,\n",
       " 28: 54,\n",
       " 29: 74,\n",
       " 30: 59,\n",
       " 31: 88}"
      ]
     },
     "execution_count": 17,
     "metadata": {},
     "output_type": "execute_result"
    }
   ],
   "source": [
    "dateListDict"
   ]
  },
  {
   "cell_type": "code",
   "execution_count": 18,
   "metadata": {
    "collapsed": false
   },
   "outputs": [
    {
     "data": {
      "text/plain": [
       "<matplotlib.text.Text at 0x1169a1110>"
      ]
     },
     "execution_count": 18,
     "metadata": {},
     "output_type": "execute_result"
    },
    {
     "data": {
      "image/png": "[encoded data removed]",
      "text/plain": [
       "<matplotlib.figure.Figure at 0x115fa1450>"
      ]
     },
     "metadata": {},
     "output_type": "display_data"
    }
   ],
   "source": [
    "plt.hist([int(item)for item in dateList], bins=31)\n",
    "plt.title('by day of the month')"
   ]
  },
  {
   "cell_type": "markdown",
   "metadata": {},
   "source": [
    "as I had mentioned earlier, the 6th of February is my birthday so you can ignore the peak corresponding to the 6th. Ignoring that, my activity is almost constant, other than for two peaks on the 18th and 27th and two dips on the 5th and the 20th of every month. Weird."
   ]
  },
  {
   "cell_type": "code",
   "execution_count": 19,
   "metadata": {
    "collapsed": false
   },
   "outputs": [],
   "source": [
    "sorteditemlist = sorted(dateListDict, key=lambda student:int(student))\n",
    "sortedDateList = []\n",
    "for item in sorteditemlist:\n",
    "    sortedDateList.append(dateListDict[item])"
   ]
  },
  {
   "cell_type": "code",
   "execution_count": 20,
   "metadata": {
    "collapsed": false
   },
   "outputs": [
    {
     "data": {
      "text/plain": [
       "<matplotlib.text.Text at 0x116d1d410>"
      ]
     },
     "execution_count": 20,
     "metadata": {},
     "output_type": "execute_result"
    },
    {
     "data": {
      "image/png": "[encoded data removed]",
      "text/plain": [
       "<matplotlib.figure.Figure at 0x116b3f590>"
      ]
     },
     "metadata": {},
     "output_type": "display_data"
    }
   ],
   "source": [
    "plt.plot(sortedDateList)\n",
    "plt.title('by day of the month')"
   ]
  },
  {
   "cell_type": "markdown",
   "metadata": {},
   "source": [
    "While I would loved to go further and look at who commented the most on my posts on Facebook, that information is not available on `wall.htm`. Heck, it doesn't even give me information on who it was that made the comment. Below, you can see a snippet showing what information we have on comments in the `wall.htm` file."
   ]
  },
  {
   "cell_type": "markdown",
   "metadata": {},
   "source": [
    "<p>\n",
    " <div class=\"meta\">\n",
    "  Wednesday, February 6, 2013 at 12:01am UTC+05:30\n",
    " </div>\n",
    " <div class=\"comment\">\n",
    "  Happy birthday Rahul! Have a good one :)\n",
    " </div>\n",
    "</p>\n",
    "<p>\n",
    " <div class=\"meta\">\n",
    "  Sunday, February 3, 2013 at 4:28pm UTC+05:30\n",
    " </div>\n",
    " <div class=\"comment\">\n",
    "  epic! Srinikethan, you should check this out!\n",
    " </div>\n",
    "</p>\n",
    "<p>\n",
    " <div class=\"meta\">\n",
    "  Saturday, February 2, 2013 at 5:31pm UTC+05:30\n",
    " </div>\n",
    " <div class=\"comment\">\n",
    "  excerpt from the article - &quot;The basic problem can be stated very simply: A student&#039;s grandmother is far more likely to die suddenly just before the student takes an exam, than at any other time of year.&quot; \n",
    "This article deserves an Ignobel via Sivaramakrishnan :D...\n",
    " </div>\n",
    "</p>"
   ]
  },
  {
   "cell_type": "markdown",
   "metadata": {},
   "source": [
    "Alas, this ends here. But there will be more. More datasets where I can find my activity information. GMail. Youtube. Hangouts. Google Fit. Twitter. GitHub."
   ]
  }
 ],
 "metadata": {
  "kernelspec": {
   "display_name": "Python 2",
   "language": "python",
   "name": "python2"
  },
  "language_info": {
   "codemirror_mode": {
    "name": "ipython",
    "version": 2
   },
   "file_extension": ".py",
   "mimetype": "text/x-python",
   "name": "python",
   "nbconvert_exporter": "python",
   "pygments_lexer": "ipython2",
   "version": "2.7.11"
  }
 },
 "nbformat": 4,
 "nbformat_minor": 0
}
