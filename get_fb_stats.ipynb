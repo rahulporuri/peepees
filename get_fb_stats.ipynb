{
 "metadata": {
  "name": "",
  "signature": "sha256:352cb257ae52b5359472cb62512c1d9eaa68b1b6e366a8bdeb0caa9ff5584492"
 },
 "nbformat": 3,
 "nbformat_minor": 0,
 "worksheets": [
  {
   "cells": [
    {
     "cell_type": "code",
     "collapsed": false,
     "input": [
      "import numpy\n",
      "import matplotlib.pyplot as plt\n",
      "import BeautifulSoup\n",
      "\n",
      "import time"
     ],
     "language": "python",
     "metadata": {},
     "outputs": [],
     "prompt_number": 1
    },
    {
     "cell_type": "code",
     "collapsed": false,
     "input": [
      "soup = BeautifulSoup.BeautifulSoup(open('wall.htm'))\n",
      "allAttrs = [[tag.attrs, tag.string] for tag in soup.findAll('div')]"
     ],
     "language": "python",
     "metadata": {},
     "outputs": [],
     "prompt_number": 2
    },
    {
     "cell_type": "code",
     "collapsed": false,
     "input": [
      "dates = []\n",
      "for string in allAttrs:\n",
      "    try :\n",
      "        if string[0][0][1] == u'meta':\n",
      "            try :\n",
      "                dates.append(str(str(string[1]).strip('u')).split())\n",
      "            except TypeError :\n",
      "                print string\n",
      "    except IndexError:\n",
      "        pass\n",
      "\n",
      "#dateList = numpy.asarray(dates, dtype=int)\n",
      "\n",
      "print len(dates)"
     ],
     "language": "python",
     "metadata": {},
     "outputs": [
      {
       "output_type": "stream",
       "stream": "stdout",
       "text": [
        "2367\n"
       ]
      }
     ],
     "prompt_number": 3
    },
    {
     "cell_type": "code",
     "collapsed": false,
     "input": [
      "dates[:10]"
     ],
     "language": "python",
     "metadata": {},
     "outputs": [
      {
       "metadata": {},
       "output_type": "pyout",
       "prompt_number": 4,
       "text": [
        "[['Monday,', 'January', '11,', '2016', 'at', '1:13am', 'UTC+05:30'],\n",
        " ['Sunday,', 'January', '10,', '2016', 'at', '6:32pm', 'UTC+05:30'],\n",
        " ['Sunday,', 'January', '10,', '2016', 'at', '5:53pm', 'UTC+05:30'],\n",
        " ['Saturday,', 'January', '9,', '2016', 'at', '5:24pm', 'UTC+05:30'],\n",
        " ['Friday,', 'January', '1,', '2016', 'at', '9:51pm', 'UTC+05:30'],\n",
        " ['Thursday,', 'December', '31,', '2015', 'at', '7:40pm', 'UTC+05:30'],\n",
        " ['Sunday,', 'December', '27,', '2015', 'at', '10:46am', 'UTC+05:30'],\n",
        " ['Friday,', 'December', '25,', '2015', 'at', '6:29pm', 'UTC+05:30'],\n",
        " ['Friday,', 'December', '25,', '2015', 'at', '6:24pm', 'UTC+05:30'],\n",
        " ['Tuesday,', 'December', '22,', '2015', 'at', '8:30am', 'UTC+05:30']]"
       ]
      }
     ],
     "prompt_number": 4
    },
    {
     "cell_type": "code",
     "collapsed": false,
     "input": [
      "dayList = []\n",
      "dateList = []\n",
      "monthList = []\n",
      "yearList = []\n",
      "\n",
      "for string in dates:\n",
      "        try:\n",
      "                dayList.append(string[0])\n",
      "                dateList.append(string[2])\n",
      "                monthList.append(string[1])\n",
      "                yearList.append(string[3])\n",
      "        except IndexError:\n",
      "                print string                "
     ],
     "language": "python",
     "metadata": {},
     "outputs": [],
     "prompt_number": 5
    },
    {
     "cell_type": "code",
     "collapsed": false,
     "input": [
      "dayListDict = dict((x, dayList.count(x)) for x in dayList)\n",
      "dateListDict = dict((x, dateList.count(x)) for x in dateList)\n",
      "monthListDict = dict((x, monthList.count(x)) for x in monthList)\n",
      "yearListDict = dict((x, yearList.count(x)) for x in yearList)"
     ],
     "language": "python",
     "metadata": {},
     "outputs": [],
     "prompt_number": 6
    },
    {
     "cell_type": "code",
     "collapsed": false,
     "input": [
      "print dayListDict"
     ],
     "language": "python",
     "metadata": {},
     "outputs": [
      {
       "output_type": "stream",
       "stream": "stdout",
       "text": [
        "{'Tuesday,': 348, 'Wednesday,': 361, 'Monday,': 347, 'Friday,': 339, 'Sunday,': 397, 'Thursday,': 297, 'Saturday,': 278}\n"
       ]
      }
     ],
     "prompt_number": 7
    },
    {
     "cell_type": "code",
     "collapsed": false,
     "input": [
      "print dayListDict['Monday,'], dayListDict['Tuesday,'], dayListDict['Wednesday,']\n",
      "print dayListDict['Thursday,'], dayListDict['Friday,'], dayListDict['Saturday,'], dayListDict['Sunday,']"
     ],
     "language": "python",
     "metadata": {},
     "outputs": [
      {
       "output_type": "stream",
       "stream": "stdout",
       "text": [
        "347 348 361\n",
        "297 339 278 397\n"
       ]
      }
     ],
     "prompt_number": 8
    },
    {
     "cell_type": "code",
     "collapsed": false,
     "input": [
      "print monthListDict"
     ],
     "language": "python",
     "metadata": {},
     "outputs": [
      {
       "output_type": "stream",
       "stream": "stdout",
       "text": [
        "{'February': 422, 'October': 220, 'March': 183, 'August': 144, 'April': 115, 'September': 247, 'January': 122, 'June': 219, 'May': 166, 'December': 231, 'November': 115, 'July': 183}\n"
       ]
      }
     ],
     "prompt_number": 9
    },
    {
     "cell_type": "code",
     "collapsed": false,
     "input": [
      "print monthListDict['January'], monthListDict['February'], monthListDict['March'], monthListDict['April']\n",
      "print monthListDict['May'], monthListDict['June'], monthListDict['July'], monthListDict['August']\n",
      "print monthListDict['September'], monthListDict['October'], monthListDict['November'], monthListDict['December']"
     ],
     "language": "python",
     "metadata": {},
     "outputs": [
      {
       "output_type": "stream",
       "stream": "stdout",
       "text": [
        "122 422 183 115\n",
        "166 219 183 144\n",
        "247 220 115 231\n"
       ]
      }
     ],
     "prompt_number": 10
    },
    {
     "cell_type": "code",
     "collapsed": false,
     "input": [
      "print yearListDict"
     ],
     "language": "python",
     "metadata": {},
     "outputs": [
      {
       "output_type": "stream",
       "stream": "stdout",
       "text": [
        "{'2009': 51, '2015': 204, '2014': 252, '2016': 5, '2011': 474, '2010': 225, '2013': 661, '2012': 495}\n"
       ]
      }
     ],
     "prompt_number": 11
    },
    {
     "cell_type": "code",
     "collapsed": false,
     "input": [
      "print yearListDict['2009'], yearListDict['2010'], yearListDict['2011'], yearListDict['2012']\n",
      "print yearListDict['2013'], yearListDict['2014'], yearListDict['2015']"
     ],
     "language": "python",
     "metadata": {},
     "outputs": [
      {
       "output_type": "stream",
       "stream": "stdout",
       "text": [
        "51 225 474 495\n",
        "661 252 204\n"
       ]
      }
     ],
     "prompt_number": 12
    },
    {
     "cell_type": "code",
     "collapsed": false,
     "input": [
      "print dateListDict"
     ],
     "language": "python",
     "metadata": {},
     "outputs": [
      {
       "output_type": "stream",
       "stream": "stdout",
       "text": [
        "{'23,': 62, '17,': 72, '25,': 52, '11,': 82, '27,': 118, '13,': 86, '19,': 60, '31,': 88, '21,': 62, '15,': 74, '8,': 63, '18,': 109, '4,': 60, '2,': 71, '16,': 59, '22,': 71, '9,': 89, '10,': 79, '24,': 63, '7,': 66, '12,': 57, '26,': 62, '30,': 59, '6,': 294, '14,': 56, '20,': 38, '28,': 54, '29,': 74, '5,': 45, '3,': 89, '1,': 53}\n"
       ]
      }
     ],
     "prompt_number": 13
    },
    {
     "cell_type": "code",
     "collapsed": false,
     "input": [],
     "language": "python",
     "metadata": {},
     "outputs": []
    }
   ],
   "metadata": {}
  }
 ]
}